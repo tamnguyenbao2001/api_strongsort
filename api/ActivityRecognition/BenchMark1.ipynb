{
 "cells": [
  {
   "cell_type": "code",
   "execution_count": 1,
   "id": "cbfea8b6",
   "metadata": {},
   "outputs": [],
   "source": [
    "import numpy as np\n",
    "from collections import deque, namedtuple\n",
    "import time\n",
    "import tensorflow as tf"
   ]
  },
  {
   "cell_type": "code",
   "execution_count": 2,
   "id": "a8ae19fc",
   "metadata": {},
   "outputs": [],
   "source": [
    "id_kpts = {1: {\"kpts\":deque([], maxlen = 5), \"status\": \"stacking\", \"coord\": (37, 52-20)}, \n",
    "           5: {\"kpts\":deque([], maxlen = 5), \"status\": \"stacking\", \"coord\": (424, 564-20)},\n",
    "           13: {\"kpts\":deque([], maxlen = 5), \"status\":\"stacking\", \"coord\": (355, 724-20)},\n",
    "           7: {\"kpts\": deque([], maxlen = 5), \"status\": \"stacking\", \"coord\": (400, 224-20)}}"
   ]
  },
  {
   "cell_type": "code",
   "execution_count": 3,
   "id": "f76163d2",
   "metadata": {},
   "outputs": [],
   "source": [
    "id_kpts = {}"
   ]
  },
  {
   "cell_type": "code",
   "execution_count": 4,
   "id": "f7f159dd",
   "metadata": {},
   "outputs": [],
   "source": [
    "track_id_kpts = [(1, np.random.rand(1, 1, 17, 3)),\n",
    "             (8, np.random.rand(1, 1, 17, 3)),\n",
    "             (13, np.random.rand(1, 1, 17, 3)),\n",
    "             (2, np.random.rand(1, 1, 17, 3))]"
   ]
  },
  {
   "cell_type": "code",
   "execution_count": 5,
   "id": "ee71176a",
   "metadata": {},
   "outputs": [],
   "source": [
    "start = time.time()\n",
    "\n",
    "track_id_basket = []\n",
    "targets = []\n",
    "for track_id, kpts in track_id_kpts:\n",
    "    track_id_basket.append(track_id)\n",
    "    if track_id in id_kpts:\n",
    "        id_kpts[track_id][\"kpts\"].append(kpts)\n",
    "        if len(id_kpts[track_id][\"kpts\"]) >= 5:\n",
    "            targets.append((track_id, id_kpts[track_id][\"kpts\"]))\n",
    "            \n",
    "    else:\n",
    "        id_kpts[track_id] = {\"kpts\":deque([kpts], maxlen = 5), \"status\":\"stacking\"}\n",
    "\n",
    "if len(targets) > 0:   \n",
    "    idxes, values = tuple(zip(*targets))\n",
    "    batch = tf.reshape(tf.convert_to_tensor(values), (len(idxes), 255))\n",
    "    preds = recognizer.predict(batch).argmax(1)\n",
    "    for i in range(len(idxes)):\n",
    "        if preds[i] == 0:\n",
    "            id_kpts[idxes[i]][\"status\"] = \"Normal\"\n",
    "        elif preds[i] == 1:\n",
    "            id_kpts[idxes[i]][\"status\"] = \"Fighting\"\n",
    "        else:\n",
    "            id_kpts[idxes[i]][\"status\"] = \"Smoking\"\n",
    "        \n",
    "for id_kpt in list(id_kpts.keys()):\n",
    "    if id_kpt not in track_id_basket:\n",
    "        del id_kpts[id_kpt]\n",
    "        continue\n",
    "    cv2.putText(frame, id_kpts[id_kpt][\"status\"], id_kpts[id_kpt][\"coord\"], \n",
    "                FONT, FONTSCALE, COLOR, THICKNESS, LINETYPE)\n",
    "        \n"
   ]
  },
  {
   "cell_type": "code",
   "execution_count": 6,
   "id": "621f082b",
   "metadata": {
    "scrolled": true
   },
   "outputs": [
    {
     "data": {
      "text/plain": [
       "{1: {'kpts': deque([array([[[[0.52131152, 0.06130097, 0.47950304],\n",
       "                  [0.74485847, 0.80978999, 0.38908233],\n",
       "                  [0.97456484, 0.01536997, 0.59207682],\n",
       "                  [0.92076844, 0.05706467, 0.13040082],\n",
       "                  [0.29088726, 0.57792081, 0.71684033],\n",
       "                  [0.01957769, 0.25497069, 0.99592261],\n",
       "                  [0.66842664, 0.91040303, 0.40427911],\n",
       "                  [0.15894835, 0.27284025, 0.84583617],\n",
       "                  [0.51352689, 0.59635234, 0.41834801],\n",
       "                  [0.25130915, 0.70171135, 0.8880338 ],\n",
       "                  [0.94757098, 0.6746179 , 0.44793628],\n",
       "                  [0.90266376, 0.96719796, 0.53923024],\n",
       "                  [0.9356274 , 0.16732179, 0.2995291 ],\n",
       "                  [0.72232139, 0.34235579, 0.95162609],\n",
       "                  [0.43520441, 0.96746221, 0.30616679],\n",
       "                  [0.13663411, 0.12680007, 0.26490484],\n",
       "                  [0.02380251, 0.87765675, 0.16939667]]]])]),\n",
       "  'status': 'stacking'},\n",
       " 8: {'kpts': deque([array([[[[0.5839093 , 0.25750486, 0.66311048],\n",
       "                  [0.1465822 , 0.69832563, 0.66139012],\n",
       "                  [0.77447324, 0.32891198, 0.244709  ],\n",
       "                  [0.33519155, 0.734571  , 0.53573603],\n",
       "                  [0.71870891, 0.50893519, 0.14534643],\n",
       "                  [0.12516456, 0.23052532, 0.94489786],\n",
       "                  [0.94525864, 0.02823417, 0.13549693],\n",
       "                  [0.29175053, 0.51481674, 0.34689633],\n",
       "                  [0.4718386 , 0.37926184, 0.05638615],\n",
       "                  [0.3418665 , 0.23229225, 0.87990272],\n",
       "                  [0.01150994, 0.41180994, 0.08598176],\n",
       "                  [0.65184006, 0.54009964, 0.74681247],\n",
       "                  [0.11796218, 0.04606095, 0.96513034],\n",
       "                  [0.87445599, 0.29664634, 0.82495816],\n",
       "                  [0.68746626, 0.08538284, 0.32293297],\n",
       "                  [0.59829621, 0.66224084, 0.2459066 ],\n",
       "                  [0.01676948, 0.77632313, 0.05876656]]]])]),\n",
       "  'status': 'stacking'},\n",
       " 13: {'kpts': deque([array([[[[0.16610182, 0.32234175, 0.67245843],\n",
       "                  [0.18682187, 0.5880561 , 0.66920008],\n",
       "                  [0.67404077, 0.9911297 , 0.6436925 ],\n",
       "                  [0.92452129, 0.60534911, 0.82040701],\n",
       "                  [0.32209262, 0.18026481, 0.68682808],\n",
       "                  [0.69193198, 0.36031078, 0.54720908],\n",
       "                  [0.55214755, 0.8801157 , 0.77726417],\n",
       "                  [0.88844986, 0.45397065, 0.86058389],\n",
       "                  [0.12377607, 0.7959288 , 0.87943025],\n",
       "                  [0.27473518, 0.30340511, 0.73929882],\n",
       "                  [0.64319545, 0.87109397, 0.09039894],\n",
       "                  [0.03033189, 0.36903363, 0.36239196],\n",
       "                  [0.19775904, 0.52068055, 0.00546426],\n",
       "                  [0.66052481, 0.62929825, 0.45202564],\n",
       "                  [0.56219773, 0.9838104 , 0.59029307],\n",
       "                  [0.74257971, 0.62552684, 0.52725788],\n",
       "                  [0.28471758, 0.07647958, 0.49458422]]]])]),\n",
       "  'status': 'stacking'},\n",
       " 2: {'kpts': deque([array([[[[0.33186011, 0.79141366, 0.35005617],\n",
       "                  [0.07129698, 0.72715852, 0.02820746],\n",
       "                  [0.97933894, 0.7925624 , 0.99341422],\n",
       "                  [0.87334507, 0.91152008, 0.85032297],\n",
       "                  [0.25298872, 0.82805156, 0.72225997],\n",
       "                  [0.71527963, 0.39027108, 0.91794548],\n",
       "                  [0.95966132, 0.97313998, 0.3746384 ],\n",
       "                  [0.80512184, 0.48760751, 0.21124955],\n",
       "                  [0.53300374, 0.29155193, 0.30870491],\n",
       "                  [0.23255612, 0.96135295, 0.11054891],\n",
       "                  [0.62189516, 0.68343207, 0.32429733],\n",
       "                  [0.97465173, 0.11697538, 0.35195111],\n",
       "                  [0.47825435, 0.99327051, 0.7943396 ],\n",
       "                  [0.63624971, 0.06208188, 0.07738316],\n",
       "                  [0.03784526, 0.20248045, 0.46720935],\n",
       "                  [0.4842526 , 0.63349902, 0.89516029],\n",
       "                  [0.58684686, 0.24610269, 0.45385096]]]])]),\n",
       "  'status': 'stacking'}}"
      ]
     },
     "execution_count": 6,
     "metadata": {},
     "output_type": "execute_result"
    }
   ],
   "source": [
    "id_kpts"
   ]
  },
  {
   "cell_type": "code",
   "execution_count": 12,
   "id": "28dc1e7f",
   "metadata": {},
   "outputs": [],
   "source": [
    "a1 = [1, 2, 5, 8]\n",
    "a2 = [3.23, 23234.3, 234.322]"
   ]
  },
  {
   "cell_type": "code",
   "execution_count": 13,
   "id": "eb4cb655",
   "metadata": {},
   "outputs": [
    {
     "data": {
      "text/plain": [
       "((1, 3.23), (2, 23234.3), (5, 234.322))"
      ]
     },
     "execution_count": 13,
     "metadata": {},
     "output_type": "execute_result"
    }
   ],
   "source": [
    "tuple(zip(a1, a2))"
   ]
  },
  {
   "cell_type": "code",
   "execution_count": 1,
   "id": "56456f32",
   "metadata": {},
   "outputs": [],
   "source": [
    "a = {1: \"a\", 2:\"b\"}"
   ]
  },
  {
   "cell_type": "code",
   "execution_count": null,
   "id": "5f8b1011",
   "metadata": {},
   "outputs": [],
   "source": [
    "if cnt % 5 == 0:\n",
    "    track_id_basket = []\n",
    "    targets = []\n",
    "\n",
    "    for track_id, kpts in tracked_id_kpts:\n",
    "        track_id_basket.append(track_id)\n",
    "        if track_id in id_kpts:\n",
    "            id_kpts[track_id][\"kpts\"].append(kpts)\n",
    "            if len(id_kpts[track_id, id_kpts[track_id][\"kpts\"]]) >= 5:\n",
    "                targets.append((track_id, id_kpts[track_id][\"kpts\"]))\n",
    "        else:\n",
    "            id_kpts[track_id] = {\"kpts\": deque([kpts], maxlen = 5), \"status\": \"stacking\"}\n",
    "\n",
    "    if len(targets) > 0:\n",
    "        idxes, values = tuple(zip(*targets))\n",
    "        batch = tf.reshape(tf.convert_to_tensor(values), (len(idxes), 255))\n",
    "        preds = recognizer.predict(batch).argmax(1)\n",
    "        for i in range(len(idxes)):\n",
    "            if preds[i] == 0:\n",
    "                id_kpts[idxes[i]][\"status\"] = \"Normal\"\n",
    "            elif preds[i] == 1:\n",
    "                id_kpts[idxes[i]][\"status\"] = \"Fighting\"\n",
    "            else:\n",
    "                id_kpts[idxes[i]][\"status\"] = \"Smoking\"\n",
    "\n",
    "    for id_kpt in list(id_kpts.keys()):            # Xoa cac id da chet\n",
    "        if id_kpt not in track_id_basket:\n",
    "            del id_kpts[id_kpt]\n",
    "            continue\n",
    "        cv2.putText(frame, id_kpts[id_kpt][\"status\"], id_kpts[id_kpt][\"coord\"], \n",
    "                    FONT, FONTSCALE, COLOR, THICKNESS, cv2.LINE_AA)"
   ]
  },
  {
   "cell_type": "code",
   "execution_count": null,
   "id": "bfb197c3",
   "metadata": {},
   "outputs": [],
   "source": [
    "def process_frame(tracked_id_kpts, id_kpts, recognizer):\n",
    "    \n",
    "    track_id_basket = []\n",
    "    targets = []\n",
    "\n",
    "    for track_id, kpts in tracked_id_kpts:\n",
    "        track_id_basket.append(track_id)\n",
    "        if track_id in id_kpts:\n",
    "            id_kpts[track_id][\"kpts\"].append(kpts)\n",
    "            if len(id_kpts[track_id][\"kpts\"]) >= 5:\n",
    "                targets.append((track_id, id_kpts[track_id][\"kpts\"]))\n",
    "        else:\n",
    "            id_kpts[track_id] = {\"kpts\": deque([kpts], maxlen=5), \"status\": \"stacking\"}\n",
    "\n",
    "    if len(targets) > 0:\n",
    "        idxes, values = tuple(zip(*targets))\n",
    "        batch = tf.reshape(tf.convert_to_tensor(values), (len(idxes), 255))\n",
    "        preds = recognizer.predict(batch).argmax(1)\n",
    "        for i in range(len(idxes)):\n",
    "            if preds[i] == 0:\n",
    "                id_kpts[idxes[i]][\"status\"] = \"Normal\"\n",
    "            elif preds[i] == 1:\n",
    "                id_kpts[idxes[i]][\"status = \"Fighting\"\n",
    "            else:\n",
    "                id_kpts[idxes[i]][\"status\"] = \"Smoking\"\n",
    "\n",
    "    for id_kpt in list(id_kpts.keys()):  # Remove dead ids\n",
    "        if id_kpt not in track_id_basket:\n",
    "            del id_kpts[id_kpt]\n",
    "            continue\n",
    "\n",
    "    return id_kpts"
   ]
  },
  {
   "cell_type": "code",
   "execution_count": 1,
   "id": "6c7e86c8",
   "metadata": {},
   "outputs": [],
   "source": [
    "a = ((1, 2), (3, 4), (5, 6), (7, 8), (9, 10))"
   ]
  },
  {
   "cell_type": "code",
   "execution_count": 2,
   "id": "0da53cc2",
   "metadata": {},
   "outputs": [
    {
     "name": "stdout",
     "output_type": "stream",
     "text": [
      "1 2\n",
      "3 4\n",
      "5 6\n",
      "7 8\n",
      "9 10\n"
     ]
    }
   ],
   "source": [
    "for i, j in a:\n",
    "    print(i, j)"
   ]
  },
  {
   "cell_type": "code",
   "execution_count": null,
   "id": "68875542",
   "metadata": {},
   "outputs": [],
   "source": []
  }
 ],
 "metadata": {
  "kernelspec": {
   "display_name": "virenv1",
   "language": "python",
   "name": "virenv1"
  },
  "language_info": {
   "codemirror_mode": {
    "name": "ipython",
    "version": 3
   },
   "file_extension": ".py",
   "mimetype": "text/x-python",
   "name": "python",
   "nbconvert_exporter": "python",
   "pygments_lexer": "ipython3",
   "version": "3.7.15"
  }
 },
 "nbformat": 4,
 "nbformat_minor": 5
}
